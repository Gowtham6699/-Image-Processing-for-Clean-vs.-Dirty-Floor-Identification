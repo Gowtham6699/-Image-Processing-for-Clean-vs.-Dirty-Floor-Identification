{
 "cells": [
  {
   "cell_type": "code",
   "execution_count": 1,
   "id": "aed67c7a",
   "metadata": {},
   "outputs": [
    {
     "name": "stdout",
     "output_type": "stream",
     "text": [
      "Accuracy: 0.7127739984882842\n",
      "Precision: 0.7024160777021409\n",
      "Recall: 0.7127739984882842\n",
      "F1 Score: 0.699159538642802\n"
     ]
    },
    {
     "data": {
      "text/plain": [
       "['Downloads']"
      ]
     },
     "execution_count": 1,
     "metadata": {},
     "output_type": "execute_result"
    }
   ],
   "source": [
    "import os\n",
    "import cv2\n",
    "import pandas as pd\n",
    "import numpy as np\n",
    "from sklearn.model_selection import train_test_split\n",
    "from sklearn.ensemble import RandomForestClassifier\n",
    "from sklearn.metrics import accuracy_score, precision_score, recall_score, f1_score\n",
    "import joblib\n",
    "# Load the CSV file containing labeled data\n",
    "csv_file_path = \"C:\\\\Users\\\\maniv\\\\Downloads\\\\ACIN Dataset.v2-acin_withmark.tensorflow\\\\test\\\\_annotations.csv\"\n",
    "data = pd.read_csv(csv_file_path)\n",
    "\n",
    "# Extract filename, class, and bounding box coordinates from the CSV file\n",
    "image_filenames = data['filename'].tolist()\n",
    "class_labels = data['class'].tolist()\n",
    "bounding_boxes = data[['xmin', 'ymin', 'xmax', 'ymax']].values\n",
    "\n",
    "# Directory containing the images\n",
    "image_dir = \"C:\\\\Users\\\\maniv\\\\Downloads\\\\ACIN Dataset.v2-acin_withmark.tensorflow\\\\test\"\n",
    "\n",
    "# Load the images using their filenames\n",
    "images = []\n",
    "labels = []\n",
    "\n",
    "for filename, class_label, bbox in zip(image_filenames, class_labels, bounding_boxes):\n",
    "    image_path = os.path.join(image_dir, filename)\n",
    "    img = cv2.imread(image_path)\n",
    "    if img is not None:\n",
    "        # Extract bounding box coordinates\n",
    "        xmin, ymin, xmax, ymax = bbox\n",
    "        # Resize image to a standard size if necessary\n",
    "        img = cv2.resize(img, (100, 100))\n",
    "        images.append(img.flatten())  # Flatten the image\n",
    "        labels.append(class_label)\n",
    "    else:\n",
    "        print(f\"Failed to load image: {image_path}\")\n",
    "\n",
    "# Split the dataset into training and testing sets\n",
    "X_train, X_test, y_train, y_test = train_test_split(images, labels, test_size=0.2, random_state=42)\n",
    "\n",
    "# Train a machine learning model using the training data\n",
    "model = RandomForestClassifier()\n",
    "model.fit(X_train, y_train)\n",
    "\n",
    "# Evaluate the trained model using the testing data\n",
    "y_pred = model.predict(X_test)\n",
    "accuracy = accuracy_score(y_test, y_pred)\n",
    "precision = precision_score(y_test, y_pred, average='weighted')\n",
    "recall = recall_score(y_test, y_pred, average='weighted')\n",
    "f1 = f1_score(y_test, y_pred, average='weighted')\n",
    "\n",
    "print(\"Accuracy:\", accuracy)\n",
    "print(\"Precision:\", precision)\n",
    "print(\"Recall:\", recall)\n",
    "print(\"F1 Score:\", f1)\n",
    "joblib.dump(model, 'Downloads')"
   ]
  },
  {
   "cell_type": "code",
   "execution_count": 8,
   "id": "6fd5dd3b",
   "metadata": {},
   "outputs": [
    {
     "name": "stdout",
     "output_type": "stream",
     "text": [
      "Cleanliness Rating for the Video: 1\n"
     ]
    },
    {
     "data": {
      "image/png": "[encoded data removed]",
      "text/plain": [
       "<Figure size 800x600 with 1 Axes>"
      ]
     },
     "metadata": {},
     "output_type": "display_data"
    }
   ],
   "source": [
    "import joblib\n",
    "import cv2\n",
    "import numpy as np\n",
    "from sklearn.ensemble import RandomForestClassifier\n",
    "import matplotlib.pyplot as plt\n",
    "\n",
    "# Load the trained model\n",
    "model = joblib.load('Downloads')  # Replace 'Downloads/model.pkl' with the actual path to your saved model\n",
    "\n",
    "# Function to preprocess frame\n",
    "def preprocess_frame(frame):\n",
    "    # Resize frame to a standard size if necessary\n",
    "    frame_resized = cv2.resize(frame, (100, 100))\n",
    "    # Flatten the frame\n",
    "    frame_flattened = frame_resized.flatten()\n",
    "    return frame_flattened\n",
    "\n",
    "# Function to classify cleanliness based on prediction probability\n",
    "def classify_cleanliness(prediction_proba):\n",
    "    if prediction_proba < 0.1:\n",
    "        return 0\n",
    "    elif 0.1 <= prediction_proba < 0.3:\n",
    "        return 1\n",
    "    elif 0.3 <= prediction_proba < 0.5:\n",
    "        return 2\n",
    "    elif 0.5 <= prediction_proba < 0.7:\n",
    "        return 3\n",
    "    else:\n",
    "        return 4\n",
    "\n",
    "# Function to make predictions and calculate average cleanliness rating for the entire video\n",
    "def predict_and_rate_video(video_path, model):\n",
    "    cap = cv2.VideoCapture(video_path)\n",
    "    cleanliness_ratings = []\n",
    "\n",
    "    # Check if the video opened successfully\n",
    "    if not cap.isOpened():\n",
    "        print(\"Error: Unable to open video.\")\n",
    "        return None\n",
    "\n",
    "    # Loop through frames in the video\n",
    "    while True:\n",
    "        ret, frame = cap.read()\n",
    "        if not ret:\n",
    "            break\n",
    "        \n",
    "        # Preprocess the frame\n",
    "        frame_features = preprocess_frame(frame)\n",
    "        # Make prediction using the trained model\n",
    "        prediction_proba = model.predict_proba([frame_features])[0][1]  # Probability of class 1 (presence of object)\n",
    "        cleanliness_rating = classify_cleanliness(prediction_proba)\n",
    "        cleanliness_ratings.append(cleanliness_rating)\n",
    "\n",
    "    # Release the video capture object\n",
    "    cap.release()\n",
    "\n",
    "    # Calculate the average cleanliness rating for the entire video\n",
    "    if len(cleanliness_ratings) > 0:\n",
    "        avg_cleanliness_rating = sum(cleanliness_ratings) // len(cleanliness_ratings)  # Convert to integer\n",
    "        return avg_cleanliness_rating\n",
    "    else:\n",
    "        print(\"Error: No frames found in the video.\")\n",
    "        return None\n",
    "\n",
    "# Load the video for testing\n",
    "video_path = \"C:\\\\Users\\\\maniv\\\\Downloads\\\\VID-20240327-WA0003.mp4\"  # Replace with the actual path to your video file\n",
    "avg_cleanliness_rating = predict_and_rate_video(video_path, model)\n",
    "if avg_cleanliness_rating is not None:\n",
    "    print(\"Cleanliness Rating for the Video:\", avg_cleanliness_rating)\n",
    "\n",
    "    plt.figure(figsize=(8, 6))\n",
    "    plt.bar([\"Cleanliness Rating\"], [avg_cleanliness_rating], color='skyblue')\n",
    "    plt.title(\"Average Cleanliness Rating for the Video\")\n",
    "    plt.xlabel(\"Cleanliness Rating\")\n",
    "    plt.ylabel(\"Frequency\")\n",
    "    plt.xticks(range(5))\n",
    "    plt.yticks(range(5))\n",
    "    plt.show()"
   ]
  },
  {
   "cell_type": "code",
   "execution_count": null,
   "id": "7bcda955",
   "metadata": {},
   "outputs": [],
   "source": []
  }
 ],
 "metadata": {
  "kernelspec": {
   "display_name": "Python 3 (ipykernel)",
   "language": "python",
   "name": "python3"
  },
  "language_info": {
   "codemirror_mode": {
    "name": "ipython",
    "version": 3
   },
   "file_extension": ".py",
   "mimetype": "text/x-python",
   "name": "python",
   "nbconvert_exporter": "python",
   "pygments_lexer": "ipython3",
   "version": "3.11.5"
  }
 },
 "nbformat": 4,
 "nbformat_minor": 5
}
